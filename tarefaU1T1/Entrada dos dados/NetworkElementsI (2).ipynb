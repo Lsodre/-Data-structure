{
  "nbformat": 4,
  "nbformat_minor": 0,
  "metadata": {
    "kernelspec": {
      "display_name": "Python 3",
      "language": "python",
      "name": "python3"
    },
    "language_info": {
      "codemirror_mode": {
        "name": "ipython",
        "version": 3
      },
      "file_extension": ".py",
      "mimetype": "text/x-python",
      "name": "python",
      "nbconvert_exporter": "python",
      "pygments_lexer": "ipython3",
      "version": "3.6.3"
    },
    "colab": {
      "provenance": [],
      "toc_visible": true
    }
  },
  "cells": [
    {
      "cell_type": "markdown",
      "metadata": {
        "id": "QG9npHtLmgm7"
      },
      "source": [
        "# Introduction"
      ]
    },
    {
      "cell_type": "markdown",
      "metadata": {
        "id": "N_Ot13Qv9Bhd"
      },
      "source": [
        "\n",
        "You can use NetworkX to construct and draw graphs that are undirected or directed, with weighted or unweighted edges. An array of functions to analyze graphs is available. This tutorial takes you through a few basic examples and exercises.\n",
        "\n",
        "Note that many exercises are followed by a block with some `assert` statements. These assertions may be preceded by some setup code. They are provided to give you feedback that you are on the right path -- receiving an `AssertionError` probably means you've done something wrong.\n"
      ]
    },
    {
      "cell_type": "markdown",
      "source": [
        "\n",
        "**Official documentation** for version used in this tutorial: https://networkx.org\n",
        "\n",
        "**Official tutorial** for version used in this tutorial: https://networkx.org/documentation/stable/tutorial.html\n",
        "\n",
        "**nx-Guide** educational materials officially developed and curated by the NetworkX community https://networkx.org/nx-guides/index.html"
      ],
      "metadata": {
        "id": "2IuRRlj825O9"
      }
    },
    {
      "cell_type": "markdown",
      "metadata": {
        "id": "MyLeqcSLmgm8"
      },
      "source": [
        "## The `import` statement\n"
      ]
    },
    {
      "cell_type": "markdown",
      "metadata": {
        "id": "k4gPM3vy9UMs"
      },
      "source": [
        "\n",
        "Recall that `import` statements go at the top of your code, telling Python to load an external module. In this case we want to load NetworkX, but give it a short alias `nx` since we'll have to type it repeatedly, hence the `as` statement.\n",
        "\n",
        "Lines starting with the `%` character are not Python code, they are \"magic\" directives for Jupyter notebook. The `%matplotlib inline` magic tells Jupyter Notebook to draw graphics inline i.e. in the notebook. This magic should be used right after the import statement."
      ]
    },
    {
      "cell_type": "code",
      "metadata": {
        "id": "Qwj-Cuetmgm8"
      },
      "source": [
        "import networkx as nx\n",
        "%matplotlib inline"
      ],
      "execution_count": 2,
      "outputs": []
    },
    {
      "cell_type": "markdown",
      "metadata": {
        "id": "S5e8Cvwbmgm8"
      },
      "source": [
        "Let's check the installed version of NetworkX. Version 2 is incompatible with v1, so we want to make sure we're not using an out of date package."
      ]
    },
    {
      "cell_type": "code",
      "metadata": {
        "id": "NDm6CKkImgm9",
        "colab": {
          "base_uri": "https://localhost:8080/",
          "height": 36
        },
        "outputId": "5533b3d5-52b7-452e-8989-0e0e4d19404b"
      },
      "source": [
        "nx.__version__"
      ],
      "execution_count": 3,
      "outputs": [
        {
          "output_type": "execute_result",
          "data": {
            "text/plain": [
              "'3.4.2'"
            ],
            "application/vnd.google.colaboratory.intrinsic+json": {
              "type": "string"
            }
          },
          "metadata": {},
          "execution_count": 3
        }
      ]
    },
    {
      "cell_type": "markdown",
      "metadata": {
        "id": "qh0OemKjmgm9"
      },
      "source": [
        "## Creating and drawing undirected graphs"
      ]
    },
    {
      "cell_type": "code",
      "metadata": {
        "id": "JY9ew9PTmgm9",
        "colab": {
          "base_uri": "https://localhost:8080/",
          "height": 516
        },
        "outputId": "9d0e83bb-a85c-40ec-c304-cdded66f609a"
      },
      "source": [
        "# a \"plain\" graph is undirected\n",
        "G = nx.Graph()\n",
        "\n",
        "# give each a node a 'name', which is a letter in this case.\n",
        "G.add_node('a')\n",
        "\n",
        "# the add_nodes_from method allows adding nodes from a sequence, in this case a list\n",
        "nodes_to_add = ['b', 'c', 'd']\n",
        "G.add_nodes_from(nodes_to_add)\n",
        "\n",
        "# add edge from 'a' to 'b'\n",
        "# since this graph is undirected, the order doesn't matter here\n",
        "G.add_edge('a', 'b')\n",
        "\n",
        "# just like add_nodes_from, we can add edges from a sequence\n",
        "# edges should be specified as 2-tuples\n",
        "edges_to_add = [('a', 'c'), ('b', 'c'), ('c', 'd')]\n",
        "G.add_edges_from(edges_to_add)\n",
        "\n",
        "# draw the graph\n",
        "nx.draw(G, with_labels=True)"
      ],
      "execution_count": 4,
      "outputs": [
        {
          "output_type": "display_data",
          "data": {
            "text/plain": [
              "<Figure size 640x480 with 1 Axes>"
            ],
            "image/png": "[encoded data removed]"
          },
          "metadata": {}
        }
      ]
    },
    {
      "cell_type": "markdown",
      "metadata": {
        "id": "XPJ5hkEPmgm9"
      },
      "source": [
        "There are many optional arguments to the draw function to customize the appearance."
      ]
    },
    {
      "cell_type": "code",
      "metadata": {
        "id": "bQUnoCy9mgm-",
        "colab": {
          "base_uri": "https://localhost:8080/",
          "height": 653
        },
        "outputId": "7c9fb821-cd50-42f4-bedc-d7c26f4a53a1"
      },
      "source": [
        "import matplotlib.pyplot as plt\n",
        "\n",
        "fig, ax = plt.subplots(1,1,figsize=(10,8))\n",
        "nx.draw(G,\n",
        "        with_labels=True,\n",
        "        node_color='blue',\n",
        "        node_size=1600,\n",
        "        font_color='white',\n",
        "        font_size=16,ax=ax\n",
        "        )"
      ],
      "execution_count": 5,
      "outputs": [
        {
          "output_type": "display_data",
          "data": {
            "text/plain": [
              "<Figure size 1000x800 with 1 Axes>"
            ],
            "image/png": "[encoded data removed]"
          },
          "metadata": {}
        }
      ]
    },
    {
      "cell_type": "markdown",
      "metadata": {
        "id": "YEa3CBUEmgm-"
      },
      "source": [
        "### A note on naming conventions\n"
      ]
    },
    {
      "cell_type": "markdown",
      "metadata": {
        "id": "z9D-PUHo9XTC"
      },
      "source": [
        "\n",
        "Usually in Python, variables are named in `snake_case`, i.e. lowercase with underscores separating words. Classes are conventionally named in `CamelCase`, i.e. with the first letter of each word capitalized.\n",
        "\n",
        "Obviously NetworkX doesn't use this convention, often using single capital letters for the names of graphs. This is an example of convention leaking from the world of discrete mathematics. Since most of the documentation you will find online uses this convention, we will follow it as well."
      ]
    },
    {
      "cell_type": "markdown",
      "metadata": {
        "id": "4bPMI-u5mgm-"
      },
      "source": [
        "## Graph methods\n",
        "\n",
        "The graph object has some properties and methods giving data about the whole graph."
      ]
    },
    {
      "cell_type": "code",
      "metadata": {
        "id": "ERBk73jVmgm-",
        "colab": {
          "base_uri": "https://localhost:8080/"
        },
        "outputId": "172f7f7d-e55d-4ff4-ab76-eb21acebabcf"
      },
      "source": [
        "# List all of the nodes\n",
        "G.nodes()"
      ],
      "execution_count": 6,
      "outputs": [
        {
          "output_type": "execute_result",
          "data": {
            "text/plain": [
              "NodeView(('a', 'b', 'c', 'd'))"
            ]
          },
          "metadata": {},
          "execution_count": 6
        }
      ]
    },
    {
      "cell_type": "code",
      "metadata": {
        "id": "-28h383Cmgm-",
        "colab": {
          "base_uri": "https://localhost:8080/"
        },
        "outputId": "c27b3b3f-f44f-4c7c-dab5-34eebe061981"
      },
      "source": [
        "# List all of the edges\n",
        "G.edges()"
      ],
      "execution_count": 7,
      "outputs": [
        {
          "output_type": "execute_result",
          "data": {
            "text/plain": [
              "EdgeView([('a', 'b'), ('a', 'c'), ('b', 'c'), ('c', 'd')])"
            ]
          },
          "metadata": {},
          "execution_count": 7
        }
      ]
    },
    {
      "cell_type": "markdown",
      "metadata": {
        "id": "EKDWMPk7mgm-"
      },
      "source": [
        "NodeView and EdgeView objects have iterators, so we can use them in `for` loops:"
      ]
    },
    {
      "cell_type": "code",
      "metadata": {
        "id": "n-VUFHDFmgm-",
        "colab": {
          "base_uri": "https://localhost:8080/"
        },
        "outputId": "aca41580-b210-41a7-8f41-fd1b24547a6b"
      },
      "source": [
        "for node in G.nodes:\n",
        "    print(node)"
      ],
      "execution_count": 8,
      "outputs": [
        {
          "output_type": "stream",
          "name": "stdout",
          "text": [
            "a\n",
            "b\n",
            "c\n",
            "d\n"
          ]
        }
      ]
    },
    {
      "cell_type": "code",
      "metadata": {
        "scrolled": true,
        "id": "nlljjdqEmgm_",
        "colab": {
          "base_uri": "https://localhost:8080/"
        },
        "outputId": "ca3b694f-c8e0-45f6-8ff6-4542c2df6aaf"
      },
      "source": [
        "for edge in G.edges:\n",
        "    print(edge)"
      ],
      "execution_count": 9,
      "outputs": [
        {
          "output_type": "stream",
          "name": "stdout",
          "text": [
            "('a', 'b')\n",
            "('a', 'c')\n",
            "('b', 'c')\n",
            "('c', 'd')\n"
          ]
        }
      ]
    },
    {
      "cell_type": "markdown",
      "metadata": {
        "id": "3bdiWAWJmgm_"
      },
      "source": [
        "Note that the edges are given as 2-tuples, the same way we entered them.\n",
        "\n",
        "We can get the number of nodes and edges in a graph using the `number_of_` methods."
      ]
    },
    {
      "cell_type": "code",
      "metadata": {
        "id": "MJ6j7vf_mgm_",
        "colab": {
          "base_uri": "https://localhost:8080/"
        },
        "outputId": "2c9ecb39-e7ae-4ad6-d290-c9ccf17e9746"
      },
      "source": [
        "G.number_of_nodes()"
      ],
      "execution_count": 10,
      "outputs": [
        {
          "output_type": "execute_result",
          "data": {
            "text/plain": [
              "4"
            ]
          },
          "metadata": {},
          "execution_count": 10
        }
      ]
    },
    {
      "cell_type": "code",
      "metadata": {
        "id": "zTnGX7Hbmgm_",
        "colab": {
          "base_uri": "https://localhost:8080/"
        },
        "outputId": "582c8009-456d-4d2b-bb95-784994aa9857"
      },
      "source": [
        "G.number_of_edges()"
      ],
      "execution_count": 11,
      "outputs": [
        {
          "output_type": "execute_result",
          "data": {
            "text/plain": [
              "4"
            ]
          },
          "metadata": {},
          "execution_count": 11
        }
      ]
    },
    {
      "cell_type": "markdown",
      "metadata": {
        "id": "bqNH0CaWmgm_"
      },
      "source": [
        "Some graph methods take an edge or node as argument. These provide the graph properties of the given edge or node. For example, the `.neighbors()` method gives the nodes linked to the given node:"
      ]
    },
    {
      "cell_type": "code",
      "metadata": {
        "id": "RZKxKFdvmgm_",
        "colab": {
          "base_uri": "https://localhost:8080/"
        },
        "outputId": "49ca3862-7da9-43f3-d1c7-2d94e1dbdd4b"
      },
      "source": [
        "# list of neighbors of node 'b'\n",
        "G.neighbors('b')"
      ],
      "execution_count": 12,
      "outputs": [
        {
          "output_type": "execute_result",
          "data": {
            "text/plain": [
              "<dict_keyiterator at 0x77ffa4395580>"
            ]
          },
          "metadata": {},
          "execution_count": 12
        }
      ]
    },
    {
      "cell_type": "markdown",
      "metadata": {
        "id": "-yPztVU1mgm_"
      },
      "source": [
        "For performance reasons, many graph methods return iterators instead of lists. They are convenient to loop over:"
      ]
    },
    {
      "cell_type": "code",
      "metadata": {
        "id": "CPAE8-Z8mgm_",
        "colab": {
          "base_uri": "https://localhost:8080/"
        },
        "outputId": "57e6189a-ac44-45c9-f39d-19785bf84e10"
      },
      "source": [
        "for neighbor in G.neighbors('b'):\n",
        "    print(neighbor)"
      ],
      "execution_count": 13,
      "outputs": [
        {
          "output_type": "stream",
          "name": "stdout",
          "text": [
            "a\n",
            "c\n"
          ]
        }
      ]
    },
    {
      "cell_type": "markdown",
      "metadata": {
        "id": "wQ7ah7ocmgm_"
      },
      "source": [
        "and you can always use the `list` constructor to make a list from an iterator:"
      ]
    },
    {
      "cell_type": "code",
      "metadata": {
        "id": "v7AVsRJrmgnA",
        "colab": {
          "base_uri": "https://localhost:8080/"
        },
        "outputId": "0c517650-205e-4667-a1a0-72d96511a5b3"
      },
      "source": [
        "list(G.neighbors('b'))"
      ],
      "execution_count": 14,
      "outputs": [
        {
          "output_type": "execute_result",
          "data": {
            "text/plain": [
              "['a', 'c']"
            ]
          },
          "metadata": {},
          "execution_count": 14
        }
      ]
    },
    {
      "cell_type": "markdown",
      "source": [
        "### An advance example using data visualization"
      ],
      "metadata": {
        "id": "wIwV0_8D2xaa"
      }
    },
    {
      "cell_type": "code",
      "source": [
        "import plotly.graph_objects as go\n",
        "\n",
        "pos = nx.spring_layout(G)\n",
        "edge_x = []\n",
        "edge_y = []\n",
        "\n",
        "for edge in G.edges():\n",
        "    x0, y0 = pos[edge[0]]\n",
        "    x1, y1 = pos[edge[1]]\n",
        "    edge_x += [x0, x1, None]\n",
        "    edge_y += [y0, y1, None]\n",
        "\n",
        "edge_trace = go.Scatter(x=edge_x, y=edge_y,\n",
        "                        line=dict(width=0.5, color=\"#888\"),\n",
        "                        hoverinfo=\"none\",\n",
        "                        mode=\"lines\")\n",
        "\n",
        "node_x = [pos[node][0] for node in G.nodes()]\n",
        "node_y = [pos[node][1] for node in G.nodes()]\n",
        "\n",
        "node_trace = go.Scatter(x=node_x, y=node_y,\n",
        "                        mode=\"markers+text\",\n",
        "                        text=list(G.nodes()),\n",
        "                        textposition=\"bottom center\",\n",
        "                        hoverinfo=\"text\",\n",
        "                        marker=dict(showscale=False,\n",
        "                                    colorscale='YlGnBu',\n",
        "                                    reversescale=True,\n",
        "                                    color=[],\n",
        "                                    size=10,line=dict(width=2))\n",
        "                        )\n",
        "\n",
        "fig = go.Figure(data=[edge_trace, node_trace],\n",
        "                layout=go.Layout(\n",
        "                    title=\"Networkx Graph Visualization with Plotly\",\n",
        "                    showlegend=False,\n",
        "                    hovermode='closest',\n",
        "                    margin=dict(b=20, l=5, r=5, t=40),\n",
        "                    xaxis=dict(showgrid=False,\n",
        "                               zeroline=False,\n",
        "                               showticklabels=False),\n",
        "                    yaxis=dict(showgrid=False,\n",
        "                               zeroline=False,\n",
        "                               showticklabels=False)\n",
        "                    )\n",
        "                )\n",
        "fig.show()"
      ],
      "metadata": {
        "id": "y3E8mXCp3XD1",
        "colab": {
          "base_uri": "https://localhost:8080/",
          "height": 542
        },
        "outputId": "4fbf066d-672a-4014-bab5-8a4213f080f9"
      },
      "execution_count": 15,
      "outputs": [
        {
          "output_type": "display_data",
          "data": {
            "text/html": [
              "<html>\n",
              "<head><meta charset=\"utf-8\" /></head>\n",
              "<body>\n",
              "    <div>            <script src=\"https://cdnjs.cloudflare.com/ajax/libs/mathjax/2.7.5/MathJax.js?config=TeX-AMS-MML_SVG\"></script><script type=\"text/javascript\">if (window.MathJax && window.MathJax.Hub && window.MathJax.Hub.Config) {window.MathJax.Hub.Config({SVG: {font: \"STIX-Web\"}});}</script>                <script type=\"text/javascript\">window.PlotlyConfig = {MathJaxConfig: 'local'};</script>\n",
              "        <script charset=\"utf-8\" src=\"https://cdn.plot.ly/plotly-2.35.2.min.js\"></script>                <div id=\"66b69995-9cbf-4094-8086-a7c24a854093\" class=\"plotly-graph-div\" style=\"height:525px; width:100%;\"></div>            <script type=\"text/javascript\">                                    window.PLOTLYENV=window.PLOTLYENV || {};                                    if (document.getElementById(\"66b69995-9cbf-4094-8086-a7c24a854093\")) {                    Plotly.newPlot(                        \"66b69995-9cbf-4094-8086-a7c24a854093\",                        [{\"hoverinfo\":\"none\",\"line\":{\"color\":\"#888\",\"width\":0.5},\"mode\":\"lines\",\"x\":[0.48310983507594085,-0.1696993283518886,null,0.48310983507594085,-0.03840720256568362,null,-0.1696993283518886,-0.03840720256568362,null,-0.03840720256568362,-0.27500330415836893,null],\"y\":[0.48007679452662566,0.6595939510179745,null,0.48007679452662566,-0.1396707455445999,null,0.6595939510179745,-0.1396707455445999,null,-0.1396707455445999,-1.0,null],\"type\":\"scatter\"},{\"hoverinfo\":\"text\",\"marker\":{\"color\":[],\"colorscale\":[[0.0,\"rgb(255,255,217)\"],[0.125,\"rgb(237,248,177)\"],[0.25,\"rgb(199,233,180)\"],[0.375,\"rgb(127,205,187)\"],[0.5,\"rgb(65,182,196)\"],[0.625,\"rgb(29,145,192)\"],[0.75,\"rgb(34,94,168)\"],[0.875,\"rgb(37,52,148)\"],[1.0,\"rgb(8,29,88)\"]],\"line\":{\"width\":2},\"reversescale\":true,\"showscale\":false,\"size\":10},\"mode\":\"markers+text\",\"text\":[\"a\",\"b\",\"c\",\"d\"],\"textposition\":\"bottom center\",\"x\":[0.48310983507594085,-0.1696993283518886,-0.03840720256568362,-0.27500330415836893],\"y\":[0.48007679452662566,0.6595939510179745,-0.1396707455445999,-1.0],\"type\":\"scatter\"}],                        {\"hovermode\":\"closest\",\"margin\":{\"b\":20,\"l\":5,\"r\":5,\"t\":40},\"showlegend\":false,\"title\":{\"text\":\"Networkx Graph Visualization with Plotly\"},\"xaxis\":{\"showgrid\":false,\"showticklabels\":false,\"zeroline\":false},\"yaxis\":{\"showgrid\":false,\"showticklabels\":false,\"zeroline\":false},\"template\":{\"data\":{\"histogram2dcontour\":[{\"type\":\"histogram2dcontour\",\"colorbar\":{\"outlinewidth\":0,\"ticks\":\"\"},\"colorscale\":[[0.0,\"#0d0887\"],[0.1111111111111111,\"#46039f\"],[0.2222222222222222,\"#7201a8\"],[0.3333333333333333,\"#9c179e\"],[0.4444444444444444,\"#bd3786\"],[0.5555555555555556,\"#d8576b\"],[0.6666666666666666,\"#ed7953\"],[0.7777777777777778,\"#fb9f3a\"],[0.8888888888888888,\"#fdca26\"],[1.0,\"#f0f921\"]]}],\"choropleth\":[{\"type\":\"choropleth\",\"colorbar\":{\"outlinewidth\":0,\"ticks\":\"\"}}],\"histogram2d\":[{\"type\":\"histogram2d\",\"colorbar\":{\"outlinewidth\":0,\"ticks\":\"\"},\"colorscale\":[[0.0,\"#0d0887\"],[0.1111111111111111,\"#46039f\"],[0.2222222222222222,\"#7201a8\"],[0.3333333333333333,\"#9c179e\"],[0.4444444444444444,\"#bd3786\"],[0.5555555555555556,\"#d8576b\"],[0.6666666666666666,\"#ed7953\"],[0.7777777777777778,\"#fb9f3a\"],[0.8888888888888888,\"#fdca26\"],[1.0,\"#f0f921\"]]}],\"heatmap\":[{\"type\":\"heatmap\",\"colorbar\":{\"outlinewidth\":0,\"ticks\":\"\"},\"colorscale\":[[0.0,\"#0d0887\"],[0.1111111111111111,\"#46039f\"],[0.2222222222222222,\"#7201a8\"],[0.3333333333333333,\"#9c179e\"],[0.4444444444444444,\"#bd3786\"],[0.5555555555555556,\"#d8576b\"],[0.6666666666666666,\"#ed7953\"],[0.7777777777777778,\"#fb9f3a\"],[0.8888888888888888,\"#fdca26\"],[1.0,\"#f0f921\"]]}],\"heatmapgl\":[{\"type\":\"heatmapgl\",\"colorbar\":{\"outlinewidth\":0,\"ticks\":\"\"},\"colorscale\":[[0.0,\"#0d0887\"],[0.1111111111111111,\"#46039f\"],[0.2222222222222222,\"#7201a8\"],[0.3333333333333333,\"#9c179e\"],[0.4444444444444444,\"#bd3786\"],[0.5555555555555556,\"#d8576b\"],[0.6666666666666666,\"#ed7953\"],[0.7777777777777778,\"#fb9f3a\"],[0.8888888888888888,\"#fdca26\"],[1.0,\"#f0f921\"]]}],\"contourcarpet\":[{\"type\":\"contourcarpet\",\"colorbar\":{\"outlinewidth\":0,\"ticks\":\"\"}}],\"contour\":[{\"type\":\"contour\",\"colorbar\":{\"outlinewidth\":0,\"ticks\":\"\"},\"colorscale\":[[0.0,\"#0d0887\"],[0.1111111111111111,\"#46039f\"],[0.2222222222222222,\"#7201a8\"],[0.3333333333333333,\"#9c179e\"],[0.4444444444444444,\"#bd3786\"],[0.5555555555555556,\"#d8576b\"],[0.6666666666666666,\"#ed7953\"],[0.7777777777777778,\"#fb9f3a\"],[0.8888888888888888,\"#fdca26\"],[1.0,\"#f0f921\"]]}],\"surface\":[{\"type\":\"surface\",\"colorbar\":{\"outlinewidth\":0,\"ticks\":\"\"},\"colorscale\":[[0.0,\"#0d0887\"],[0.1111111111111111,\"#46039f\"],[0.2222222222222222,\"#7201a8\"],[0.3333333333333333,\"#9c179e\"],[0.4444444444444444,\"#bd3786\"],[0.5555555555555556,\"#d8576b\"],[0.6666666666666666,\"#ed7953\"],[0.7777777777777778,\"#fb9f3a\"],[0.8888888888888888,\"#fdca26\"],[1.0,\"#f0f921\"]]}],\"mesh3d\":[{\"type\":\"mesh3d\",\"colorbar\":{\"outlinewidth\":0,\"ticks\":\"\"}}],\"scatter\":[{\"fillpattern\":{\"fillmode\":\"overlay\",\"size\":10,\"solidity\":0.2},\"type\":\"scatter\"}],\"parcoords\":[{\"type\":\"parcoords\",\"line\":{\"colorbar\":{\"outlinewidth\":0,\"ticks\":\"\"}}}],\"scatterpolargl\":[{\"type\":\"scatterpolargl\",\"marker\":{\"colorbar\":{\"outlinewidth\":0,\"ticks\":\"\"}}}],\"bar\":[{\"error_x\":{\"color\":\"#2a3f5f\"},\"error_y\":{\"color\":\"#2a3f5f\"},\"marker\":{\"line\":{\"color\":\"#E5ECF6\",\"width\":0.5},\"pattern\":{\"fillmode\":\"overlay\",\"size\":10,\"solidity\":0.2}},\"type\":\"bar\"}],\"scattergeo\":[{\"type\":\"scattergeo\",\"marker\":{\"colorbar\":{\"outlinewidth\":0,\"ticks\":\"\"}}}],\"scatterpolar\":[{\"type\":\"scatterpolar\",\"marker\":{\"colorbar\":{\"outlinewidth\":0,\"ticks\":\"\"}}}],\"histogram\":[{\"marker\":{\"pattern\":{\"fillmode\":\"overlay\",\"size\":10,\"solidity\":0.2}},\"type\":\"histogram\"}],\"scattergl\":[{\"type\":\"scattergl\",\"marker\":{\"colorbar\":{\"outlinewidth\":0,\"ticks\":\"\"}}}],\"scatter3d\":[{\"type\":\"scatter3d\",\"line\":{\"colorbar\":{\"outlinewidth\":0,\"ticks\":\"\"}},\"marker\":{\"colorbar\":{\"outlinewidth\":0,\"ticks\":\"\"}}}],\"scattermapbox\":[{\"type\":\"scattermapbox\",\"marker\":{\"colorbar\":{\"outlinewidth\":0,\"ticks\":\"\"}}}],\"scatterternary\":[{\"type\":\"scatterternary\",\"marker\":{\"colorbar\":{\"outlinewidth\":0,\"ticks\":\"\"}}}],\"scattercarpet\":[{\"type\":\"scattercarpet\",\"marker\":{\"colorbar\":{\"outlinewidth\":0,\"ticks\":\"\"}}}],\"carpet\":[{\"aaxis\":{\"endlinecolor\":\"#2a3f5f\",\"gridcolor\":\"white\",\"linecolor\":\"white\",\"minorgridcolor\":\"white\",\"startlinecolor\":\"#2a3f5f\"},\"baxis\":{\"endlinecolor\":\"#2a3f5f\",\"gridcolor\":\"white\",\"linecolor\":\"white\",\"minorgridcolor\":\"white\",\"startlinecolor\":\"#2a3f5f\"},\"type\":\"carpet\"}],\"table\":[{\"cells\":{\"fill\":{\"color\":\"#EBF0F8\"},\"line\":{\"color\":\"white\"}},\"header\":{\"fill\":{\"color\":\"#C8D4E3\"},\"line\":{\"color\":\"white\"}},\"type\":\"table\"}],\"barpolar\":[{\"marker\":{\"line\":{\"color\":\"#E5ECF6\",\"width\":0.5},\"pattern\":{\"fillmode\":\"overlay\",\"size\":10,\"solidity\":0.2}},\"type\":\"barpolar\"}],\"pie\":[{\"automargin\":true,\"type\":\"pie\"}]},\"layout\":{\"autotypenumbers\":\"strict\",\"colorway\":[\"#636efa\",\"#EF553B\",\"#00cc96\",\"#ab63fa\",\"#FFA15A\",\"#19d3f3\",\"#FF6692\",\"#B6E880\",\"#FF97FF\",\"#FECB52\"],\"font\":{\"color\":\"#2a3f5f\"},\"hovermode\":\"closest\",\"hoverlabel\":{\"align\":\"left\"},\"paper_bgcolor\":\"white\",\"plot_bgcolor\":\"#E5ECF6\",\"polar\":{\"bgcolor\":\"#E5ECF6\",\"angularaxis\":{\"gridcolor\":\"white\",\"linecolor\":\"white\",\"ticks\":\"\"},\"radialaxis\":{\"gridcolor\":\"white\",\"linecolor\":\"white\",\"ticks\":\"\"}},\"ternary\":{\"bgcolor\":\"#E5ECF6\",\"aaxis\":{\"gridcolor\":\"white\",\"linecolor\":\"white\",\"ticks\":\"\"},\"baxis\":{\"gridcolor\":\"white\",\"linecolor\":\"white\",\"ticks\":\"\"},\"caxis\":{\"gridcolor\":\"white\",\"linecolor\":\"white\",\"ticks\":\"\"}},\"coloraxis\":{\"colorbar\":{\"outlinewidth\":0,\"ticks\":\"\"}},\"colorscale\":{\"sequential\":[[0.0,\"#0d0887\"],[0.1111111111111111,\"#46039f\"],[0.2222222222222222,\"#7201a8\"],[0.3333333333333333,\"#9c179e\"],[0.4444444444444444,\"#bd3786\"],[0.5555555555555556,\"#d8576b\"],[0.6666666666666666,\"#ed7953\"],[0.7777777777777778,\"#fb9f3a\"],[0.8888888888888888,\"#fdca26\"],[1.0,\"#f0f921\"]],\"sequentialminus\":[[0.0,\"#0d0887\"],[0.1111111111111111,\"#46039f\"],[0.2222222222222222,\"#7201a8\"],[0.3333333333333333,\"#9c179e\"],[0.4444444444444444,\"#bd3786\"],[0.5555555555555556,\"#d8576b\"],[0.6666666666666666,\"#ed7953\"],[0.7777777777777778,\"#fb9f3a\"],[0.8888888888888888,\"#fdca26\"],[1.0,\"#f0f921\"]],\"diverging\":[[0,\"#8e0152\"],[0.1,\"#c51b7d\"],[0.2,\"#de77ae\"],[0.3,\"#f1b6da\"],[0.4,\"#fde0ef\"],[0.5,\"#f7f7f7\"],[0.6,\"#e6f5d0\"],[0.7,\"#b8e186\"],[0.8,\"#7fbc41\"],[0.9,\"#4d9221\"],[1,\"#276419\"]]},\"xaxis\":{\"gridcolor\":\"white\",\"linecolor\":\"white\",\"ticks\":\"\",\"title\":{\"standoff\":15},\"zerolinecolor\":\"white\",\"automargin\":true,\"zerolinewidth\":2},\"yaxis\":{\"gridcolor\":\"white\",\"linecolor\":\"white\",\"ticks\":\"\",\"title\":{\"standoff\":15},\"zerolinecolor\":\"white\",\"automargin\":true,\"zerolinewidth\":2},\"scene\":{\"xaxis\":{\"backgroundcolor\":\"#E5ECF6\",\"gridcolor\":\"white\",\"linecolor\":\"white\",\"showbackground\":true,\"ticks\":\"\",\"zerolinecolor\":\"white\",\"gridwidth\":2},\"yaxis\":{\"backgroundcolor\":\"#E5ECF6\",\"gridcolor\":\"white\",\"linecolor\":\"white\",\"showbackground\":true,\"ticks\":\"\",\"zerolinecolor\":\"white\",\"gridwidth\":2},\"zaxis\":{\"backgroundcolor\":\"#E5ECF6\",\"gridcolor\":\"white\",\"linecolor\":\"white\",\"showbackground\":true,\"ticks\":\"\",\"zerolinecolor\":\"white\",\"gridwidth\":2}},\"shapedefaults\":{\"line\":{\"color\":\"#2a3f5f\"}},\"annotationdefaults\":{\"arrowcolor\":\"#2a3f5f\",\"arrowhead\":0,\"arrowwidth\":1},\"geo\":{\"bgcolor\":\"white\",\"landcolor\":\"#E5ECF6\",\"subunitcolor\":\"white\",\"showland\":true,\"showlakes\":true,\"lakecolor\":\"white\"},\"title\":{\"x\":0.05},\"mapbox\":{\"style\":\"light\"}}}},                        {\"responsive\": true}                    ).then(function(){\n",
              "                            \n",
              "var gd = document.getElementById('66b69995-9cbf-4094-8086-a7c24a854093');\n",
              "var x = new MutationObserver(function (mutations, observer) {{\n",
              "        var display = window.getComputedStyle(gd).display;\n",
              "        if (!display || display === 'none') {{\n",
              "            console.log([gd, 'removed!']);\n",
              "            Plotly.purge(gd);\n",
              "            observer.disconnect();\n",
              "        }}\n",
              "}});\n",
              "\n",
              "// Listen for the removal of the full notebook cells\n",
              "var notebookContainer = gd.closest('#notebook-container');\n",
              "if (notebookContainer) {{\n",
              "    x.observe(notebookContainer, {childList: true});\n",
              "}}\n",
              "\n",
              "// Listen for the clearing of the current output cell\n",
              "var outputEl = gd.closest('.output');\n",
              "if (outputEl) {{\n",
              "    x.observe(outputEl, {childList: true});\n",
              "}}\n",
              "\n",
              "                        })                };                            </script>        </div>\n",
              "</body>\n",
              "</html>"
            ]
          },
          "metadata": {}
        }
      ]
    },
    {
      "cell_type": "markdown",
      "metadata": {
        "id": "LxcVIHh2mgnA"
      },
      "source": [
        "# NetworkX functions vs. Graph methods\n"
      ]
    },
    {
      "cell_type": "markdown",
      "metadata": {
        "id": "p_wy_aLz9Z1J"
      },
      "source": [
        "\n",
        "The previous data are available via graph *methods*, *i.e.* they are called from the graph object:\n",
        "\n",
        "    G.<method_name>(<arguments>)\n",
        "\n",
        "While several of the most-used NetworkX functions are provided as methods, many more of them are module functions and are called like this:\n",
        "\n",
        "    nx.<function_name>(G, <arguments>)\n",
        "\n",
        "that is, with the graph provided as the first, and maybe only, argument. Here are a couple of examples of NetworkX module functions that provide information about a graph:"
      ]
    },
    {
      "cell_type": "code",
      "metadata": {
        "id": "VIoTGFH3mgnA",
        "colab": {
          "base_uri": "https://localhost:8080/"
        },
        "outputId": "813363c3-7b96-4ad8-e277-bb4693503eb3"
      },
      "source": [
        "nx.is_tree(G)"
      ],
      "execution_count": 16,
      "outputs": [
        {
          "output_type": "execute_result",
          "data": {
            "text/plain": [
              "False"
            ]
          },
          "metadata": {},
          "execution_count": 16
        }
      ]
    },
    {
      "cell_type": "code",
      "metadata": {
        "id": "gbIuMKNJmgnA",
        "colab": {
          "base_uri": "https://localhost:8080/"
        },
        "outputId": "f0770f5b-1e2e-4ad7-9ef8-4898aee874b4"
      },
      "source": [
        "nx.is_connected(G)"
      ],
      "execution_count": 17,
      "outputs": [
        {
          "output_type": "execute_result",
          "data": {
            "text/plain": [
              "True"
            ]
          },
          "metadata": {},
          "execution_count": 17
        }
      ]
    },
    {
      "cell_type": "markdown",
      "metadata": {
        "id": "3L7uuaSPmgnA"
      },
      "source": [
        "## Node and edge existence\n"
      ]
    },
    {
      "cell_type": "markdown",
      "metadata": {
        "id": "m_hW0aPg9car"
      },
      "source": [
        "\n",
        "To check if a node is present in a graph, you can use the `has_node()` method:"
      ]
    },
    {
      "cell_type": "code",
      "metadata": {
        "id": "WfiSCgkJmgnA",
        "colab": {
          "base_uri": "https://localhost:8080/"
        },
        "outputId": "ac4eb659-ef5f-4200-f52d-8f63305a1ed6"
      },
      "source": [
        "G.has_node('a')"
      ],
      "execution_count": 18,
      "outputs": [
        {
          "output_type": "execute_result",
          "data": {
            "text/plain": [
              "True"
            ]
          },
          "metadata": {},
          "execution_count": 18
        }
      ]
    },
    {
      "cell_type": "code",
      "metadata": {
        "id": "GqZntbp4mgnA",
        "colab": {
          "base_uri": "https://localhost:8080/"
        },
        "outputId": "3e4ad408-0cd8-491b-9bb9-157636769150"
      },
      "source": [
        "G.has_node('x')"
      ],
      "execution_count": 19,
      "outputs": [
        {
          "output_type": "execute_result",
          "data": {
            "text/plain": [
              "False"
            ]
          },
          "metadata": {},
          "execution_count": 19
        }
      ]
    },
    {
      "cell_type": "markdown",
      "metadata": {
        "id": "hwz9zJThmgnA"
      },
      "source": [
        "Additionally, the loop syntax used above: `for n in G.nodes` suggests another way we can check if a node is in a graph:"
      ]
    },
    {
      "cell_type": "code",
      "metadata": {
        "id": "FYfjvghMmgnB",
        "colab": {
          "base_uri": "https://localhost:8080/"
        },
        "outputId": "0e1fdf27-de2d-47fd-f414-c52bd956877e"
      },
      "source": [
        "'d' in G.nodes"
      ],
      "execution_count": 20,
      "outputs": [
        {
          "output_type": "execute_result",
          "data": {
            "text/plain": [
              "True"
            ]
          },
          "metadata": {},
          "execution_count": 20
        }
      ]
    },
    {
      "cell_type": "markdown",
      "metadata": {
        "id": "rh0IEZxmmgnB"
      },
      "source": [
        "Likewise we can check if two nodes are connected by an edge:"
      ]
    },
    {
      "cell_type": "code",
      "metadata": {
        "id": "yoEeHW2vmgnB",
        "colab": {
          "base_uri": "https://localhost:8080/"
        },
        "outputId": "f042cd9c-0821-4898-c162-5463476095ca"
      },
      "source": [
        "G.has_edge('a', 'b')"
      ],
      "execution_count": 21,
      "outputs": [
        {
          "output_type": "execute_result",
          "data": {
            "text/plain": [
              "True"
            ]
          },
          "metadata": {},
          "execution_count": 21
        }
      ]
    },
    {
      "cell_type": "code",
      "metadata": {
        "id": "xJnFSISSmgnB",
        "colab": {
          "base_uri": "https://localhost:8080/"
        },
        "outputId": "82845952-9373-4fd5-e949-6ca08ca3e28e"
      },
      "source": [
        "G.has_edge('a', 'd')"
      ],
      "execution_count": 22,
      "outputs": [
        {
          "output_type": "execute_result",
          "data": {
            "text/plain": [
              "False"
            ]
          },
          "metadata": {},
          "execution_count": 22
        }
      ]
    },
    {
      "cell_type": "code",
      "metadata": {
        "id": "r9nCt42kmgnB",
        "colab": {
          "base_uri": "https://localhost:8080/"
        },
        "outputId": "703bf723-8bcb-4fa8-ba57-40d747d0036f"
      },
      "source": [
        "('c', 'd') in G.edges"
      ],
      "execution_count": 23,
      "outputs": [
        {
          "output_type": "execute_result",
          "data": {
            "text/plain": [
              "True"
            ]
          },
          "metadata": {},
          "execution_count": 23
        }
      ]
    },
    {
      "cell_type": "markdown",
      "metadata": {
        "id": "bZCoiuVdmgnB"
      },
      "source": [
        "## Node degree\n"
      ]
    },
    {
      "cell_type": "markdown",
      "metadata": {
        "id": "tgJM-8O_9eSd"
      },
      "source": [
        "\n",
        "One of the most important questions we can ask about a node in a graph is how many other nodes it connects to. Using the `.neighbors()` method from above, we could formulate this question as so:"
      ]
    },
    {
      "cell_type": "code",
      "metadata": {
        "id": "MDtjYBvJmgnB",
        "colab": {
          "base_uri": "https://localhost:8080/"
        },
        "outputId": "0829ab64-eda4-45d2-e95a-9231305bba5f"
      },
      "source": [
        "len(list(G.neighbors('a')))"
      ],
      "execution_count": 24,
      "outputs": [
        {
          "output_type": "execute_result",
          "data": {
            "text/plain": [
              "2"
            ]
          },
          "metadata": {},
          "execution_count": 24
        }
      ]
    },
    {
      "cell_type": "markdown",
      "metadata": {
        "id": "l8ftq28RmgnB"
      },
      "source": [
        "but this is such a common task that NetworkX provides us a graph method to do this in a much clearer way:"
      ]
    },
    {
      "cell_type": "code",
      "metadata": {
        "id": "IHuE22BpmgnB",
        "colab": {
          "base_uri": "https://localhost:8080/"
        },
        "outputId": "002d187d-e21b-414f-dd8a-efe1828fef52"
      },
      "source": [
        "G.degree('a')"
      ],
      "execution_count": 25,
      "outputs": [
        {
          "output_type": "execute_result",
          "data": {
            "text/plain": [
              "2"
            ]
          },
          "metadata": {},
          "execution_count": 25
        }
      ]
    },
    {
      "cell_type": "markdown",
      "metadata": {
        "id": "OEbvlDyImgnB"
      },
      "source": [
        "## EXERCISE 1\n",
        "\n"
      ]
    },
    {
      "cell_type": "markdown",
      "metadata": {
        "id": "SuO9vOYd9gFV"
      },
      "source": [
        "\n",
        "Often in the context of trees, a node with degree 1 is called a *leaf*. Write a function named `get_leaves` that takes a graph as an argument, loops through the nodes, and returns a list of nodes with degree 1."
      ]
    },
    {
      "cell_type": "code",
      "metadata": {
        "scrolled": true,
        "id": "FlGKqf0MmgnB"
      },
      "source": [
        "import networkx as nx\n",
        "\n",
        "def get_leaves(G):\n",
        "    return [node for node in G.nodes if G.degree(node) == 1]\n",
        "\n",
        "G = nx.Graph()\n",
        "G.add_edges_from([\n",
        "    ('a', 'b'),\n",
        "    ('a', 'd'),\n",
        "    ('c', 'd'),\n",
        "])\n",
        "\n",
        "assert set(get_leaves(G)) == {'c', 'b'}\n"
      ],
      "execution_count": 50,
      "outputs": []
    },
    {
      "cell_type": "code",
      "metadata": {
        "scrolled": true,
        "id": "mVBLr5_xmgnB"
      },
      "source": [
        "\n",
        "\n",
        "G = nx.Graph()\n",
        "G.add_edges_from([\n",
        "        ('a', 'b'),\n",
        "        ('a', 'd'),\n",
        "        ('c', 'd'),\n",
        "    ])\n",
        "assert set(get_leaves(G)) == {'c', 'b'}"
      ],
      "execution_count": 51,
      "outputs": []
    },
    {
      "cell_type": "markdown",
      "metadata": {
        "id": "3ZJS8XwomgnC"
      },
      "source": [
        "# Aside: comprehensions\n"
      ]
    },
    {
      "cell_type": "markdown",
      "metadata": {
        "id": "UHiOy9Uc9hMQ"
      },
      "source": [
        "\n",
        "Often we have one sequence of values and we want to generate a new sequence by applying an operation to each item in the first. List comprehensions and generator expressions are compact ways to do this.\n",
        "\n",
        "List comprehensions are specified inside square brackets, and immediately produce a list of the result."
      ]
    },
    {
      "cell_type": "code",
      "metadata": {
        "id": "PI4AO291mgnC",
        "colab": {
          "base_uri": "https://localhost:8080/"
        },
        "outputId": "98e5835e-097e-4183-98bd-cb63d531e49b"
      },
      "source": [
        "items = ['spider', 'y', 'banana']\n",
        "[item.upper() for item in items]"
      ],
      "execution_count": 30,
      "outputs": [
        {
          "output_type": "execute_result",
          "data": {
            "text/plain": [
              "['SPIDER', 'Y', 'BANANA']"
            ]
          },
          "metadata": {},
          "execution_count": 30
        }
      ]
    },
    {
      "cell_type": "markdown",
      "metadata": {
        "id": "0DiBW7LQmgnC"
      },
      "source": [
        "In the context of NetworkX, this is often used to do something with the node or edge lists:"
      ]
    },
    {
      "cell_type": "code",
      "metadata": {
        "id": "OtB8bHjOmgnC",
        "colab": {
          "base_uri": "https://localhost:8080/"
        },
        "outputId": "74ea11cc-bc60-4e17-a81f-1e2542dc7ce6"
      },
      "source": [
        "print(G.nodes())\n",
        "print([G.degree(n) for n in G.nodes()])"
      ],
      "execution_count": 31,
      "outputs": [
        {
          "output_type": "stream",
          "name": "stdout",
          "text": [
            "['a', 'b', 'd', 'c']\n",
            "[2, 1, 2, 1]\n"
          ]
        }
      ]
    },
    {
      "cell_type": "markdown",
      "metadata": {
        "id": "k5mqjsNbmgnC"
      },
      "source": [
        "Generator expressions are slightly different as they are evaluated [lazily](https://en.wikipedia.org/wiki/Lazy_evaluation). These are specified using round braces, and if they are being expressed as a function argument, they can be specified without any braces. These are most often used in the context of aggregations like the `max` function:"
      ]
    },
    {
      "cell_type": "code",
      "metadata": {
        "id": "bmlcYEMKmgnC",
        "colab": {
          "base_uri": "https://localhost:8080/"
        },
        "outputId": "70c63409-e7bd-4a0d-de79-e4aabfb95ffc"
      },
      "source": [
        "g = (len(item) for item in items)\n",
        "list(g)"
      ],
      "execution_count": 32,
      "outputs": [
        {
          "output_type": "execute_result",
          "data": {
            "text/plain": [
              "[6, 1, 6]"
            ]
          },
          "metadata": {},
          "execution_count": 32
        }
      ]
    },
    {
      "cell_type": "code",
      "metadata": {
        "id": "fwrnavpvmgnC",
        "colab": {
          "base_uri": "https://localhost:8080/"
        },
        "outputId": "21dfc27a-1cba-4f9a-9bdd-9144a944949e"
      },
      "source": [
        "max(len(item) for item in items)"
      ],
      "execution_count": 33,
      "outputs": [
        {
          "output_type": "execute_result",
          "data": {
            "text/plain": [
              "6"
            ]
          },
          "metadata": {},
          "execution_count": 33
        }
      ]
    },
    {
      "cell_type": "code",
      "metadata": {
        "id": "IQiLeXAmmgnC",
        "colab": {
          "base_uri": "https://localhost:8080/"
        },
        "outputId": "f451cda0-9947-421a-aa62-23dc2fa0a5d4"
      },
      "source": [
        "sorted(item.upper() for item in items)"
      ],
      "execution_count": 34,
      "outputs": [
        {
          "output_type": "execute_result",
          "data": {
            "text/plain": [
              "['BANANA', 'SPIDER', 'Y']"
            ]
          },
          "metadata": {},
          "execution_count": 34
        }
      ]
    },
    {
      "cell_type": "markdown",
      "metadata": {
        "id": "pOHp5rgxmgnC"
      },
      "source": [
        "## Node names\n"
      ]
    },
    {
      "cell_type": "markdown",
      "metadata": {
        "id": "xUhXjx4D9imG"
      },
      "source": [
        "\n",
        "The node names don't have to be single characters -- they can be strings or integers or any immutable object, and the types can be mixed. The example below uses strings and integers for names."
      ]
    },
    {
      "cell_type": "code",
      "metadata": {
        "id": "2FM2ZUsImgnC",
        "colab": {
          "base_uri": "https://localhost:8080/",
          "height": 499
        },
        "outputId": "864cbf77-f686-4806-930a-d1965ec17d36"
      },
      "source": [
        "import matplotlib.pyplot as plt\n",
        "\n",
        "fig, ax = plt.subplots(1,1,figsize=(8,6))\n",
        "\n",
        "G = nx.Graph()\n",
        "G.add_nodes_from(['cat','dog','virus',13])\n",
        "G.add_edge('cat','dog')\n",
        "nx.draw(G, with_labels=True, font_color='white', node_size=1000, ax = ax)\n",
        "plt.show()"
      ],
      "execution_count": 35,
      "outputs": [
        {
          "output_type": "display_data",
          "data": {
            "text/plain": [
              "<Figure size 800x600 with 1 Axes>"
            ],
            "image/png": "[encoded data removed]"
          },
          "metadata": {}
        }
      ]
    },
    {
      "cell_type": "markdown",
      "metadata": {
        "id": "np4_nOMVmgnC"
      },
      "source": [
        "# Adjacency lists\n"
      ]
    },
    {
      "cell_type": "markdown",
      "metadata": {
        "id": "Fi2GXDKb9k8N"
      },
      "source": [
        "\n",
        "One compact way to represent a graph is an adjacency list. This is most useful for unweighted graphs, directed or undirected. In an adjacency list, each line contains some number of node names. The first node name is the \"source\" and each other node name on the line is a \"target\". For instance, given the following adjacency list:\n",
        "```\n",
        "a d e\n",
        "b c\n",
        "c\n",
        "d\n",
        "e\n",
        "```\n",
        "the edges are as follows:\n",
        "```\n",
        "(a, d)\n",
        "(a, e)\n",
        "(b, c)\n",
        "```\n",
        "The nodes on their own line exist so that we are sure to include any singleton nodes. Note that if our graph is undirected, we only need to specify one direction for each edge. Importantly, whether the graph is directed or undirected is often not contained in the file itself -- you have to infer it. This is one limitation of the format.\n",
        "\n",
        "There is a file called `friends.adjlist`. It's a plain text file, so you can open it on your computer or in GitHub, but here are its contents:"
      ]
    },
    {
      "cell_type": "code",
      "source": [
        "import gdown\n",
        "\n",
        "url = 'https://drive.google.com/uc?id=1-D5a3ells1jprz0cNMJ3eEHhW2RrnJDB'\n",
        "output = 'friends.adjlist'\n",
        "gdown.download(url, output, quiet=False)"
      ],
      "metadata": {
        "id": "gpwIjkhcznOp",
        "colab": {
          "base_uri": "https://localhost:8080/",
          "height": 105
        },
        "outputId": "8debc356-a1e5-4913-9da8-416611a9616d"
      },
      "execution_count": 36,
      "outputs": [
        {
          "output_type": "stream",
          "name": "stderr",
          "text": [
            "Downloading...\n",
            "From: https://drive.google.com/uc?id=1-D5a3ells1jprz0cNMJ3eEHhW2RrnJDB\n",
            "To: /content/friends.adjlist\n",
            "100%|██████████| 109/109 [00:00<00:00, 232kB/s]\n"
          ]
        },
        {
          "output_type": "execute_result",
          "data": {
            "text/plain": [
              "'friends.adjlist'"
            ],
            "application/vnd.google.colaboratory.intrinsic+json": {
              "type": "string"
            }
          },
          "metadata": {},
          "execution_count": 36
        }
      ]
    },
    {
      "cell_type": "code",
      "metadata": {
        "id": "Yet6Ll9wmgnD",
        "colab": {
          "base_uri": "https://localhost:8080/"
        },
        "outputId": "43e26748-787f-4748-ff2f-c259ce8146c9"
      },
      "source": [
        "print(open('friends.adjlist').read())"
      ],
      "execution_count": 37,
      "outputs": [
        {
          "output_type": "stream",
          "name": "stdout",
          "text": [
            "George Frank Dennis\n",
            "Dennis Claire Esther\n",
            "Claire Frank Alice Esther\n",
            "Bob Alice\n",
            "Frank Alice\n",
            "Alice\n",
            "Esther\n",
            "Shelly\n",
            "\n"
          ]
        }
      ]
    },
    {
      "cell_type": "markdown",
      "metadata": {
        "id": "Nx-3UM19mgnD"
      },
      "source": [
        "NetworkX provides a way to read a graph from an adjacency list: `nx.read_adjlist()`. We will name this graph SG, for social graph."
      ]
    },
    {
      "cell_type": "code",
      "metadata": {
        "id": "ZHZefiTWmgnD"
      },
      "source": [
        "SG = nx.read_adjlist('friends.adjlist')"
      ],
      "execution_count": 38,
      "outputs": []
    },
    {
      "cell_type": "markdown",
      "metadata": {
        "id": "HPYvh9tbmgnD"
      },
      "source": [
        "We know how to draw this graph:"
      ]
    },
    {
      "cell_type": "code",
      "metadata": {
        "id": "Xqvx4sJRmgnD",
        "colab": {
          "base_uri": "https://localhost:8080/",
          "height": 653
        },
        "outputId": "59aea020-d7b8-497b-d398-e671301dac4f"
      },
      "source": [
        "import matplotlib.pyplot as plt\n",
        "\n",
        "fig,ax = plt.subplots(1,1,figsize=(10,8))\n",
        "nx.draw(SG, node_size=2000, node_color='lightblue', with_labels=True,ax=ax)\n",
        "plt.show()"
      ],
      "execution_count": 39,
      "outputs": [
        {
          "output_type": "display_data",
          "data": {
            "text/plain": [
              "<Figure size 1000x800 with 1 Axes>"
            ],
            "image/png": "[encoded data removed]"
          },
          "metadata": {}
        }
      ]
    },
    {
      "cell_type": "markdown",
      "metadata": {
        "id": "sJkPbCgfmgnD"
      },
      "source": [
        "And we know how to get information such as the number of friends linked from a node:"
      ]
    },
    {
      "cell_type": "code",
      "metadata": {
        "id": "3XEmjoTBmgnD",
        "colab": {
          "base_uri": "https://localhost:8080/"
        },
        "outputId": "43739ecf-a365-4f2c-c857-63d41ca05447"
      },
      "source": [
        "SG.degree('Alice')"
      ],
      "execution_count": 40,
      "outputs": [
        {
          "output_type": "execute_result",
          "data": {
            "text/plain": [
              "3"
            ]
          },
          "metadata": {},
          "execution_count": 40
        }
      ]
    },
    {
      "cell_type": "markdown",
      "metadata": {
        "id": "TcYdyCnEmgnD"
      },
      "source": [
        "## EXERCISE 2\n"
      ]
    },
    {
      "cell_type": "markdown",
      "metadata": {
        "id": "MsE6DTbI9m4t"
      },
      "source": [
        "\n",
        "Write a function max_degree that takes a graph as its argument, and returns a 2-tuple with the name and degree of the node with highest degree."
      ]
    },
    {
      "cell_type": "code",
      "metadata": {
        "scrolled": false,
        "id": "DLufczZQmgnD"
      },
      "source": [
        "import networkx as nx\n",
        "\n",
        "def max_degree(G):\n",
        "    return max(G.degree, key=lambda x: x[1])  # Retorna o nó com maior grau\n",
        "\n",
        "SG = nx.read_adjlist('friends.adjlist')\n",
        "assert max_degree(SG) == ('Claire', 4)\n"
      ],
      "execution_count": 43,
      "outputs": []
    },
    {
      "cell_type": "code",
      "metadata": {
        "scrolled": false,
        "id": "aEQapPYNmgnD"
      },
      "source": [
        "SG = nx.read_adjlist('friends.adjlist')\n",
        "assert max_degree(SG) == ('Claire', 4)"
      ],
      "execution_count": 44,
      "outputs": []
    },
    {
      "cell_type": "markdown",
      "metadata": {
        "id": "MCDbNldnmgnD"
      },
      "source": [
        "## EXERCISE 3\n"
      ]
    },
    {
      "cell_type": "markdown",
      "metadata": {
        "id": "RWup3uDm9n5I"
      },
      "source": [
        "\n",
        "Write a function `mutual_friends` that takes a graph and two nodes as arguments, and returns a list (or set) of nodes that are linked to both given nodes. For example, in the graph `SG` drawn above,\n",
        "\n",
        "    mutual_friends(SG, 'Alice', 'Claire') == ['Frank']\n",
        "\n",
        "an empty list or set should be returned in the case where two nodes have no mutual friends, e.g. George and Bob in `SG` drawn above."
      ]
    },
    {
      "cell_type": "code",
      "metadata": {
        "scrolled": false,
        "id": "hpnX9YeKmgnD"
      },
      "source": [
        "def mutual_friends(G, node_1, node_2):\n",
        "    return list(set(G.neighbors(node_1)) & set(G.neighbors(node_2)))  # Interseção dos vizinhos\n",
        "\n",
        "SG = nx.read_adjlist('friends.adjlist')\n",
        "assert mutual_friends(SG, 'Alice', 'Claire') == ['Frank']\n",
        "assert mutual_friends(SG, 'George', 'Bob') == []\n",
        "assert sorted(mutual_friends(SG, 'Claire', 'George')) == ['Dennis', 'Frank']\n"
      ],
      "execution_count": 46,
      "outputs": []
    },
    {
      "cell_type": "code",
      "metadata": {
        "scrolled": true,
        "id": "B2n0vCRYmgnE"
      },
      "source": [
        "SG = nx.read_adjlist('friends.adjlist')\n",
        "assert mutual_friends(SG, 'Alice', 'Claire') == ['Frank']\n",
        "assert mutual_friends(SG, 'George', 'Bob') == []\n",
        "assert sorted(mutual_friends(SG, 'Claire', 'George')) == ['Dennis', 'Frank']"
      ],
      "execution_count": 47,
      "outputs": []
    },
    {
      "cell_type": "markdown",
      "metadata": {
        "id": "1Y9kUzI5mgnE"
      },
      "source": [
        "# Directed graphs\n"
      ]
    },
    {
      "cell_type": "markdown",
      "metadata": {
        "id": "vGwKHPk49pjQ"
      },
      "source": [
        "\n",
        "Unless otherwise specified, we assume graph edges are undirected -- they are symmetric and go both ways. But some relationships, e.g. predator-prey relationships, are asymmetric and best represented as directed graphs. NetworkX provides the `DiGraph` class for directed graphs."
      ]
    },
    {
      "cell_type": "code",
      "metadata": {
        "id": "U-aYvHw2mgnE",
        "colab": {
          "base_uri": "https://localhost:8080/",
          "height": 516
        },
        "outputId": "7983be60-523e-4913-d53e-33829e462607"
      },
      "source": [
        "D = nx.DiGraph()\n",
        "\n",
        "D.add_edges_from([(1,2),(2,3),(3,2),(3,4),(3,5),(4,5),(4,6),(5,6),(6,4),(4,2)])\n",
        "\n",
        "nx.draw(D, with_labels=True)"
      ],
      "execution_count": 48,
      "outputs": [
        {
          "output_type": "display_data",
          "data": {
            "text/plain": [
              "<Figure size 640x480 with 1 Axes>"
            ],
            "image/png": "[encoded data removed]"
          },
          "metadata": {}
        }
      ]
    },
    {
      "cell_type": "markdown",
      "metadata": {
        "id": "cJh2UMM1mgnE"
      },
      "source": [
        "Note the asymmetry in graph methods dealing with edges such as `has_edge()`:"
      ]
    },
    {
      "cell_type": "code",
      "metadata": {
        "id": "qR3qxAmPmgnE"
      },
      "source": [
        "D.has_edge(1,2)"
      ],
      "execution_count": null,
      "outputs": []
    },
    {
      "cell_type": "code",
      "metadata": {
        "id": "GMOpNUIfmgnE"
      },
      "source": [
        "D.has_edge(2,1)"
      ],
      "execution_count": null,
      "outputs": []
    },
    {
      "cell_type": "markdown",
      "metadata": {
        "id": "1Sr0z0FQmgnE"
      },
      "source": [
        "Instead of the symmetric relationship \"neighbors\", nodes in directed graphs have predecessors (\"in-neighbors\") and successors (\"out-neighbors\"):"
      ]
    },
    {
      "cell_type": "code",
      "metadata": {
        "id": "xgGAG8LCmgnE"
      },
      "source": [
        "print('Successors of 2:', list(D.successors(2)))\n",
        "\n",
        "print('Predecessors of 2:', list(D.predecessors(2)))"
      ],
      "execution_count": null,
      "outputs": []
    },
    {
      "cell_type": "markdown",
      "metadata": {
        "id": "rsj-OkL8mgnE"
      },
      "source": [
        "Directed graphs have in-degree and out-degree, giving the number of edges pointing to and from the given node, respectively:"
      ]
    },
    {
      "cell_type": "code",
      "metadata": {
        "id": "D_Wz7lDYmgnE"
      },
      "source": [
        "D.in_degree(2)"
      ],
      "execution_count": null,
      "outputs": []
    },
    {
      "cell_type": "code",
      "metadata": {
        "id": "PRY7wcGpmgnE"
      },
      "source": [
        "D.out_degree(2)"
      ],
      "execution_count": null,
      "outputs": []
    },
    {
      "cell_type": "markdown",
      "metadata": {
        "id": "axgp9QB1mgnF"
      },
      "source": [
        "### Caveat\n",
        "\n",
        "Since NetworkX 2, the `.degree()` method on a directed graph gives the total degree: in-degree plus out-degree. However, in a bit of confusing nomenclature, the `neighbors` method is a synonym for `successors`, giving only the edges originating from the given node. This makes sense if you consider `neighbors` to be all the nodes reachable from the given node by following links, but it's easy to make the mistake of writing `.neighbors()` in your code when you really want both predecessors and successors."
      ]
    },
    {
      "cell_type": "code",
      "metadata": {
        "id": "OkMlHO7KmgnF"
      },
      "source": [
        "D.degree(2)"
      ],
      "execution_count": null,
      "outputs": []
    },
    {
      "cell_type": "code",
      "metadata": {
        "scrolled": false,
        "id": "1pUW9bzqmgnF"
      },
      "source": [
        "print('Successors of 2:', list(D.successors(2)))\n",
        "print('\"Neighbors\" of 2:', list(D.neighbors(2)))"
      ],
      "execution_count": null,
      "outputs": []
    }
  ]
}